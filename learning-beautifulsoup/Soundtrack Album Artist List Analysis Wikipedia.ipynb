{
 "cells": [
  {
   "cell_type": "code",
   "execution_count": 1,
   "metadata": {},
   "outputs": [],
   "source": [
    "import wikipedia\n",
    "from bs4 import BeautifulSoup as bs "
   ]
  },
  {
   "cell_type": "code",
   "execution_count": 2,
   "metadata": {},
   "outputs": [],
   "source": [
    "wikipedia.set_lang('en')"
   ]
  },
  {
   "cell_type": "code",
   "execution_count": 26,
   "metadata": {},
   "outputs": [
    {
     "data": {
      "text/plain": [
       "{'Ant-Man (soundtrack)',\n",
       " 'Avengers: Age of Ultron (soundtrack)',\n",
       " 'Avengers: Endgame (soundtrack)',\n",
       " 'Avengers: Infinity War (soundtrack)',\n",
       " 'Batman v Superman: Dawn of Justice (soundtrack)',\n",
       " 'Black Panther (soundtrack)',\n",
       " 'Blue Hawaii (soundtrack)',\n",
       " 'Burlesque (soundtrack)',\n",
       " 'Captain America: Civil War (soundtrack)',\n",
       " 'Captain America: The First Avenger (soundtrack)',\n",
       " 'Captain America: The Winter Soldier (soundtrack)',\n",
       " 'Captain Marvel (soundtrack)',\n",
       " 'Doctor Strange (soundtrack)',\n",
       " 'Double Trouble (soundtrack)',\n",
       " 'Flash Gordon (soundtrack)',\n",
       " 'Frankie and Johnny (soundtrack)',\n",
       " 'Frozen (soundtrack)',\n",
       " 'Guardians of the Galaxy (soundtrack)',\n",
       " 'Guardians of the Galaxy Vol. 2 (soundtrack)',\n",
       " \"Harry Potter and the Philosopher's Stone (soundtrack)\",\n",
       " 'High School Musical (soundtrack)',\n",
       " 'High Society (soundtrack)',\n",
       " 'Iron Man (soundtrack)',\n",
       " 'Iron Man 2 (soundtrack)',\n",
       " 'Iron Man 3 (soundtrack)',\n",
       " \"It Happened at the World's Fair (soundtrack)\",\n",
       " 'Justice League (soundtrack)',\n",
       " 'King Creole (soundtrack)',\n",
       " 'La La Land (soundtrack)',\n",
       " 'Loving You (soundtrack)',\n",
       " 'Mac & Devin Go to High School (soundtrack)',\n",
       " 'Man of Steel (soundtrack)',\n",
       " 'Mary Poppins (soundtrack)',\n",
       " 'More (soundtrack)',\n",
       " 'O Brother, Where Art Thou? (soundtrack)',\n",
       " 'Return of the Jedi (soundtrack)',\n",
       " 'Romeo + Juliet (soundtrack)',\n",
       " 'Saturday Night Fever (soundtrack)',\n",
       " 'Sparkle (soundtrack)',\n",
       " 'Speedway (soundtrack)',\n",
       " 'Spider-Man: Far From Home (soundtrack)',\n",
       " 'Spider-Man: Homecoming (soundtrack)',\n",
       " 'Spinout (soundtrack)',\n",
       " 'Star Wars (soundtrack)',\n",
       " 'Star Wars: Episode III – Revenge of the Sith (soundtrack)',\n",
       " 'Star Wars: The Force Awakens (soundtrack)',\n",
       " 'The Amazing Spider-Man 2 (soundtrack)',\n",
       " 'The Avengers (soundtrack)',\n",
       " 'The Bodyguard (soundtrack)',\n",
       " 'The Empire Strikes Back (soundtrack)',\n",
       " 'The Family Way (soundtrack)',\n",
       " 'The Godfather (soundtrack)',\n",
       " 'The Greatest Showman (soundtrack)',\n",
       " 'The Incredible Hulk (soundtrack)',\n",
       " 'The Little Mermaid (soundtrack)',\n",
       " 'The Wiz (soundtrack)',\n",
       " 'Thor (soundtrack)',\n",
       " 'Thor: Ragnarok (soundtrack)',\n",
       " 'Thor: The Dark World (soundtrack)',\n",
       " 'Tron: Legacy (soundtrack)',\n",
       " 'Walk the Line (soundtrack)'}"
      ]
     },
     "execution_count": 26,
     "metadata": {},
     "output_type": "execute_result"
    }
   ],
   "source": [
    "set(filter(lambda x:\"(soundtrack)\" in x, wikipedia.search('\"(soundtrack)\"', results=10000000,  suggestion=False)))"
   ]
  },
  {
   "cell_type": "code",
   "execution_count": 43,
   "metadata": {},
   "outputs": [],
   "source": [
    "import wikipediaapi\n",
    "wiki = wikipediaapi.Wikipedia('en', extract_format=wikipediaapi.ExtractFormat.HTML)\n",
    "page = wiki.page('List_of_American_films_of_2019')"
   ]
  },
  {
   "cell_type": "code",
   "execution_count": 31,
   "metadata": {},
   "outputs": [
    {
     "data": {
      "text/plain": [
       "'https://en.wikipedia.org/wiki/List_of_American_films_of_2019'"
      ]
     },
     "execution_count": 31,
     "metadata": {},
     "output_type": "execute_result"
    }
   ],
   "source": [
    "page.fullurl"
   ]
  },
  {
   "cell_type": "code",
   "execution_count": 32,
   "metadata": {},
   "outputs": [
    {
     "data": {
      "text/plain": [
       "{'Category:2019 in American cinema': Category:2019 in American cinema (id: ??, ns: 14),\n",
       " 'Category:All Wikipedia articles written in American English': Category:All Wikipedia articles written in American English (id: ??, ns: 14),\n",
       " 'Category:Articles with short description': Category:Articles with short description (id: ??, ns: 14),\n",
       " 'Category:Commons category link is on Wikidata': Category:Commons category link is on Wikidata (id: ??, ns: 14),\n",
       " 'Category:Lists of 2019 films by country or language': Category:Lists of 2019 films by country or language (id: ??, ns: 14),\n",
       " 'Category:Lists of American films by year': Category:Lists of American films by year (id: ??, ns: 14),\n",
       " 'Category:Short description matches Wikidata': Category:Short description matches Wikidata (id: ??, ns: 14),\n",
       " 'Category:Use American English from September 2019': Category:Use American English from September 2019 (id: ??, ns: 14)}"
      ]
     },
     "execution_count": 32,
     "metadata": {},
     "output_type": "execute_result"
    }
   ],
   "source": [
    "page.categories"
   ]
  },
  {
   "cell_type": "code",
   "execution_count": 44,
   "metadata": {},
   "outputs": [
    {
     "data": {
      "text/plain": [
       "[Section: Box office (1):\n",
       " <p>The highest-grossing American films released in 2019, by domestic box office gross revenue, are as follows:</p>\n",
       " Subsections (0):,\n",
       " Section: January–March (1):\n",
       " \n",
       " Subsections (0):,\n",
       " Section: April–June (1):\n",
       " \n",
       " Subsections (0):,\n",
       " Section: July–September (1):\n",
       " \n",
       " Subsections (0):,\n",
       " Section: October–December (1):\n",
       " \n",
       " Subsections (0):,\n",
       " Section: See also (1):\n",
       " <ul><li>List of 2019 box office number-one films in the United States</li>\n",
       " <li>2019 in the United States</li></ul>\n",
       " Subsections (0):,\n",
       " Section: References (1):\n",
       " \n",
       " Subsections (0):,\n",
       " Section: External links (1):\n",
       " <ul><li>American films of 2019 at IMDb</li></ul>\n",
       " \n",
       " \n",
       " \n",
       " <!-- \n",
       " NewPP limit report\n",
       " Parsed by mw1281\n",
       " Cached time: 20210325173435\n",
       " Cache expiry: 2592000\n",
       " Dynamic content: false\n",
       " Complications: [vary‐revision‐sha1]\n",
       " CPU time usage: 2.400 seconds\n",
       " Real time usage: 2.691 seconds\n",
       " Preprocessor visited node count: 11486/1000000\n",
       " Post‐expand include size: 516186/2097152 bytes\n",
       " Template argument size: 1118/2097152 bytes\n",
       " Highest expansion depth: 13/40\n",
       " Expensive parser function count: 3/500\n",
       " Unstrip recursion depth: 1/20\n",
       " Unstrip post‐expand size: 721809/5000000 bytes\n",
       " Lua time usage: 1.148/10.000 seconds\n",
       " Lua memory usage: 6409314/52428800 bytes\n",
       " Lua Profile:\n",
       "     dataWrapper <mw.lua:661>                                         220 ms       19.3%\n",
       "     ?                                                                160 ms       14.0%\n",
       "     Scribunto_LuaSandboxCallback::plain                              100 ms        8.8%\n",
       "     recursiveClone <mwInit.lua:41>                                   100 ms        8.8%\n",
       "     Scribunto_LuaSandboxCallback::gsub                                80 ms        7.0%\n",
       "     Scribunto_LuaSandboxCallback::callParserFunction                  60 ms        5.3%\n",
       "     match                                                             40 ms        3.5%\n",
       "     <Module:Citation/CS1/COinS:175>                                   40 ms        3.5%\n",
       "     <mw.lua:683>                                                      40 ms        3.5%\n",
       "     Scribunto_LuaSandboxCallback::getExpandedArgument                 20 ms        1.8%\n",
       "     [others]                                                         280 ms       24.6%\n",
       " Number of Wikibase entities loaded: 1/400\n",
       " -->\n",
       " <!--\n",
       " Transclusion expansion time report (%,ms,calls,template)\n",
       " 100.00% 1867.571      1 -total\n",
       "  70.56% 1317.809      1 Template:Reflist\n",
       "  54.22% 1012.552    205 Template:Cite_web\n",
       "   5.37%  100.355      1 Template:Short_description\n",
       "   4.96%   92.606      1 Template:Americanfilmlist\n",
       "   4.49%   83.795      1 Template:Sidebar\n",
       "   3.62%   67.631      1 Template:Commons_category\n",
       "   3.61%   67.481      7 Template:Navbox\n",
       "   3.33%   62.270      1 Template:Sister_project\n",
       "   3.24%   60.533     11 Template:Cite_news\n",
       " -->\n",
       " Subsections (0):]"
      ]
     },
     "execution_count": 44,
     "metadata": {},
     "output_type": "execute_result"
    }
   ],
   "source": [
    "page.sections"
   ]
  },
  {
   "cell_type": "code",
   "execution_count": 50,
   "metadata": {},
   "outputs": [
    {
     "ename": "AttributeError",
     "evalue": "'WikipediaPageSection' object has no attribute 'summary'",
     "output_type": "error",
     "traceback": [
      "\u001b[1;31m---------------------------------------------------------------------------\u001b[0m",
      "\u001b[1;31mAttributeError\u001b[0m                            Traceback (most recent call last)",
      "\u001b[1;32m<ipython-input-50-27b34ddf2df1>\u001b[0m in \u001b[0;36m<module>\u001b[1;34m\u001b[0m\n\u001b[1;32m----> 1\u001b[1;33m \u001b[0mpage\u001b[0m\u001b[1;33m.\u001b[0m\u001b[0msections\u001b[0m\u001b[1;33m[\u001b[0m\u001b[1;36m1\u001b[0m\u001b[1;33m]\u001b[0m\u001b[1;33m.\u001b[0m\u001b[0msummary\u001b[0m\u001b[1;33m\u001b[0m\u001b[1;33m\u001b[0m\u001b[0m\n\u001b[0m",
      "\u001b[1;31mAttributeError\u001b[0m: 'WikipediaPageSection' object has no attribute 'summary'"
     ]
    }
   ],
   "source": [
    "page.sections[1].summary"
   ]
  },
  {
   "cell_type": "code",
   "execution_count": 59,
   "metadata": {},
   "outputs": [
    {
     "data": {
      "text/plain": [
       "'<p class=\"mw-empty-elt\">\\n</p>\\n<p>This is a list of American films that were released in 2019.\\n</p>\\n\\n<h2>Box office</h2>\\n<p>The highest-grossing American films released in 2019, by domestic box office gross revenue, are as follows:</p>\\n\\n<h2>January–March</h2>\\n<h2>April–June</h2>\\n<h2>July–September</h2>\\n<h2>October–December</h2>\\n<h2>See also</h2>\\n<ul><li>List of 2019 box office number-one films in the United States</li>\\n<li>2019 in the United States</li></ul>\\n\\n<h2>References</h2>\\n<h2>External links</h2>\\n<ul><li>American films of 2019 at IMDb</li></ul>\\n\\n\\n\\n<!-- \\nNewPP limit report\\nParsed by mw1281\\nCached time: 20210325173435\\nCache expiry: 2592000\\nDynamic content: false\\nComplications: [vary‐revision‐sha1]\\nCPU time usage: 2.400 seconds\\nReal time usage: 2.691 seconds\\nPreprocessor visited node count: 11486/1000000\\nPost‐expand include size: 516186/2097152 bytes\\nTemplate argument size: 1118/2097152 bytes\\nHighest expansion depth: 13/40\\nExpensive parser function count: 3/500\\nUnstrip recursion depth: 1/20\\nUnstrip post‐expand size: 721809/5000000 bytes\\nLua time usage: 1.148/10.000 seconds\\nLua memory usage: 6409314/52428800 bytes\\nLua Profile:\\n    dataWrapper <mw.lua:661>                                         220 ms       19.3%\\n    ?                                                                160 ms       14.0%\\n    Scribunto_LuaSandboxCallback::plain                              100 ms        8.8%\\n    recursiveClone <mwInit.lua:41>                                   100 ms        8.8%\\n    Scribunto_LuaSandboxCallback::gsub                                80 ms        7.0%\\n    Scribunto_LuaSandboxCallback::callParserFunction                  60 ms        5.3%\\n    match                                                             40 ms        3.5%\\n    <Module:Citation/CS1/COinS:175>                                   40 ms        3.5%\\n    <mw.lua:683>                                                      40 ms        3.5%\\n    Scribunto_LuaSandboxCallback::getExpandedArgument                 20 ms        1.8%\\n    [others]                                                         280 ms       24.6%\\nNumber of Wikibase entities loaded: 1/400\\n-->\\n<!--\\nTransclusion expansion time report (%,ms,calls,template)\\n100.00% 1867.571      1 -total\\n 70.56% 1317.809      1 Template:Reflist\\n 54.22% 1012.552    205 Template:Cite_web\\n  5.37%  100.355      1 Template:Short_description\\n  4.96%   92.606      1 Template:Americanfilmlist\\n  4.49%   83.795      1 Template:Sidebar\\n  3.62%   67.631      1 Template:Commons_category\\n  3.61%   67.481      7 Template:Navbox\\n  3.33%   62.270      1 Template:Sister_project\\n  3.24%   60.533     11 Template:Cite_news\\n-->'"
      ]
     },
     "execution_count": 59,
     "metadata": {},
     "output_type": "execute_result"
    }
   ],
   "source": [
    "page.text"
   ]
  },
  {
   "cell_type": "code",
   "execution_count": 55,
   "metadata": {},
   "outputs": [
    {
     "data": {
      "text/plain": [
       "{'6 Underground (film)',\n",
       " \"A Dog's Journey (film)\",\n",
       " 'A Million Little Pieces (film)',\n",
       " 'Ad Astra (film)',\n",
       " 'Captain Marvel (film)',\n",
       " 'Clemency (film)',\n",
       " 'Close (film)',\n",
       " 'Dark Phoenix (film)',\n",
       " 'Detective Pikachu (film)',\n",
       " 'Downton Abbey (film)',\n",
       " 'Escape Room (film)',\n",
       " 'Gemini Man (film)',\n",
       " 'Good Boys (film)',\n",
       " 'Gwen (film)',\n",
       " 'Harriet (film)',\n",
       " 'Honey Boy (film)',\n",
       " 'Hustlers (film)',\n",
       " 'In the Tall Grass (film)',\n",
       " 'Judy (film)',\n",
       " 'Klaus (film)',\n",
       " 'Last Christmas (film)',\n",
       " 'Late Night (film)',\n",
       " 'Light of My Life (film)',\n",
       " 'Little (film)',\n",
       " 'Ma (film)',\n",
       " 'Midsommar (film)',\n",
       " 'Monos (film)',\n",
       " 'Motherless Brooklyn (film)',\n",
       " 'Murder Mystery (film)',\n",
       " 'Never Grow Old (film)',\n",
       " 'Official Secrets (film)',\n",
       " 'Overcomer (film)',\n",
       " 'Penguins (film)',\n",
       " 'Piercing (film)',\n",
       " 'Polaroid (film)',\n",
       " 'Poms (film)',\n",
       " 'Replicas (film)',\n",
       " 'Richard Jewell (film)',\n",
       " 'Rocketman (film)',\n",
       " 'Satanic Panic (film)',\n",
       " 'Scary Stories to Tell in the Dark (film)',\n",
       " 'Shazam! (film)',\n",
       " 'Someone Great (film)',\n",
       " 'Stuber (film)',\n",
       " 'The Aeronauts (film)',\n",
       " 'The Art of Racing in the Rain (film)',\n",
       " 'The Dirt (film)',\n",
       " 'The Goldfinch (film)',\n",
       " 'The Highwaymen (film)',\n",
       " 'The Hustle (film)',\n",
       " 'The Laundromat (film)',\n",
       " 'The Operative (film)',\n",
       " 'The Prodigy (film)',\n",
       " 'The Professor and the Madman (film)',\n",
       " 'Togo (film)',\n",
       " 'Tolkien (film)',\n",
       " 'Triple Frontier (film)',\n",
       " 'Waves (film)',\n",
       " \"Where'd You Go, Bernadette (film)\",\n",
       " 'Wounds (film)',\n",
       " 'Wrinkles the Clown (film)'}"
      ]
     },
     "execution_count": 55,
     "metadata": {},
     "output_type": "execute_result"
    }
   ],
   "source": [
    "set(filter(lambda x: \"(film)\" in x, page.links))"
   ]
  },
  {
   "cell_type": "code",
   "execution_count": 68,
   "metadata": {},
   "outputs": [
    {
     "name": "stdout",
     "output_type": "stream",
     "text": [
      "<built-in method title of str object at 0x000001DDE3297570>\n",
      "<built-in method title of str object at 0x000001DDE3297930>\n",
      "<built-in method title of str object at 0x000001DDE32979B0>\n",
      "<built-in method title of str object at 0x000001DDE3297AB0>\n"
     ]
    }
   ],
   "source": [
    "for link in page.langlinks:\n",
    "    print(link.title)"
   ]
  },
  {
   "cell_type": "code",
   "execution_count": null,
   "metadata": {},
   "outputs": [],
   "source": []
  }
 ],
 "metadata": {
  "kernelspec": {
   "display_name": "Python 3",
   "language": "python",
   "name": "python3"
  },
  "language_info": {
   "codemirror_mode": {
    "name": "ipython",
    "version": 3
   },
   "file_extension": ".py",
   "mimetype": "text/x-python",
   "name": "python",
   "nbconvert_exporter": "python",
   "pygments_lexer": "ipython3",
   "version": "3.8.5"
  }
 },
 "nbformat": 4,
 "nbformat_minor": 4
}
